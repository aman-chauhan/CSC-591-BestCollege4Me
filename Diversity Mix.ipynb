{
 "cells": [
  {
   "cell_type": "code",
   "execution_count": null,
   "metadata": {},
   "outputs": [],
   "source": [
    "from sklearn.neighbors import NearestNeighbors\n",
    "from pprint import pprint\n",
    "import pandas as pd\n",
    "import numpy as np\n",
    "import json"
   ]
  },
  {
   "cell_type": "code",
   "execution_count": null,
   "metadata": {},
   "outputs": [],
   "source": [
    "df=pd.read_csv('bestcollegesite/bestcollege/data/cleaned_data.csv',low_memory=False)\n",
    "df=df[['UNITID','INSTNM','ZIP','CITY','STABBR','UGDS_WHITE','UGDS_BLACK','UGDS_HISP','UGDS_ASIAN','UGDS_AIAN','UGDS_NHPI','UGDS_UNKN']]\n",
    "df=df.dropna()"
   ]
  },
  {
   "cell_type": "code",
   "execution_count": null,
   "metadata": {},
   "outputs": [],
   "source": [
    "home_state='CA'\n",
    "options=[1,2,3]"
   ]
  },
  {
   "cell_type": "code",
   "execution_count": null,
   "metadata": {},
   "outputs": [],
   "source": [
    "X=df[['UNITID','INSTNM','ZIP','CITY','STABBR']]\n",
    "Y=df[['UGDS_WHITE','UGDS_BLACK','UGDS_HISP','UGDS_ASIAN','UGDS_AIAN','UGDS_NHPI','UGDS_UNKN']]"
   ]
  },
  {
   "cell_type": "code",
   "execution_count": null,
   "metadata": {},
   "outputs": [],
   "source": [
    "states=df['STABBR'].unique()\n",
    "homestates={x:Y[X['STABBR']==x].values.mean(axis=0).tolist() for x in states}\n",
    "json.dump(homestates,open('homestates.json','w'))"
   ]
  },
  {
   "cell_type": "code",
   "execution_count": null,
   "metadata": {},
   "outputs": [],
   "source": [
    "homestates=json.load(open('bestcollegesite/bestcollege/data/homestates.json'))"
   ]
  },
  {
   "cell_type": "code",
   "execution_count": null,
   "metadata": {},
   "outputs": [],
   "source": [
    "oy=Y[X['STABBR']!=home_state]\n",
    "pprint(oy)"
   ]
  },
  {
   "cell_type": "code",
   "execution_count": null,
   "metadata": {},
   "outputs": [],
   "source": [
    "oy=Y[X['STABBR']!=home_state]\n",
    "nbrs = NearestNeighbors(n_neighbors=len(homestates), algorithm='brute',metric='l1').fit(oy.values)\n",
    "d,i=nbrs.kneighbors(np.asarray(homestates[home_state]).reshape((1,-1)))\n",
    "print(d)\n",
    "for option in options:\n",
    "    if option==1:\n",
    "        pprint(homestates[home_state])\n",
    "    elif option==2:\n",
    "        pprint(Y.values[i[0]][:10].mean(axis=0).tolist())\n",
    "    else:\n",
    "        pprint(Y.values[i[0]][-10:].mean(axis=0).tolist())"
   ]
  },
  {
   "cell_type": "code",
   "execution_count": null,
   "metadata": {},
   "outputs": [],
   "source": []
  }
 ],
 "metadata": {
  "kernelspec": {
   "display_name": "Python 3",
   "language": "python",
   "name": "python3"
  },
  "language_info": {
   "codemirror_mode": {
    "name": "ipython",
    "version": 3
   },
   "file_extension": ".py",
   "mimetype": "text/x-python",
   "name": "python",
   "nbconvert_exporter": "python",
   "pygments_lexer": "ipython3",
   "version": "3.6.5"
  }
 },
 "nbformat": 4,
 "nbformat_minor": 2
}
