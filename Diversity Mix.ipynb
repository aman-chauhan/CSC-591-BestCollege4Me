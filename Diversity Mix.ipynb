{
 "cells": [
  {
   "cell_type": "code",
   "execution_count": 1,
   "metadata": {
    "collapsed": true
   },
   "outputs": [],
   "source": [
    "from sklearn.neighbors import NearestNeighbors\n",
    "from pprint import pprint\n",
    "import pandas as pd\n",
    "import numpy as np\n",
    "import json"
   ]
  },
  {
   "cell_type": "code",
   "execution_count": 2,
   "metadata": {},
   "outputs": [],
   "source": [
    "df=pd.read_csv('cleaned_data.csv',low_memory=False)\n",
    "df=df[['UNITID','INSTNM','ZIP','CITY','STABBR','UGDS_WHITE','UGDS_BLACK','UGDS_HISP','UGDS_ASIAN','UGDS_AIAN','UGDS_NHPI','UGDS_UNKN']]\n",
    "df=df.dropna()"
   ]
  },
  {
   "cell_type": "code",
   "execution_count": 25,
   "metadata": {
    "collapsed": true
   },
   "outputs": [],
   "source": [
    "home_state='CA'\n",
    "options=[1,2,3]"
   ]
  },
  {
   "cell_type": "code",
   "execution_count": 4,
   "metadata": {
    "collapsed": true
   },
   "outputs": [],
   "source": [
    "X=df[['UNITID','INSTNM','ZIP','CITY','STABBR']]\n",
    "Y=df[['UGDS_WHITE','UGDS_BLACK','UGDS_HISP','UGDS_ASIAN','UGDS_AIAN','UGDS_NHPI','UGDS_UNKN']]"
   ]
  },
  {
   "cell_type": "code",
   "execution_count": null,
   "metadata": {},
   "outputs": [],
   "source": [
    "states=df['STABBR'].unique()\n",
    "homestates={x:Y[X['STABBR']==x].values.mean(axis=0).tolist() for x in states}\n",
    "json.dump(homestates,open('homestates.json','w'))"
   ]
  },
  {
   "cell_type": "code",
   "execution_count": 5,
   "metadata": {},
   "outputs": [],
   "source": [
    "homestates=json.load(open('homestates.json'))"
   ]
  },
  {
   "cell_type": "code",
   "execution_count": 6,
   "metadata": {},
   "outputs": [
    {
     "name": "stdout",
     "output_type": "stream",
     "text": [
      "      UGDS_WHITE  UGDS_BLACK  UGDS_HISP  UGDS_ASIAN  UGDS_AIAN  UGDS_NHPI  \\\n",
      "0         0.0340      0.9216     0.0058      0.0018     0.0022     0.0018   \n",
      "1         0.5863      0.2541     0.0317      0.0595     0.0023     0.0006   \n",
      "2         0.2110      0.3409     0.0195      0.0000     0.0000     0.0032   \n",
      "3         0.7024      0.1230     0.0417      0.0381     0.0130     0.0000   \n",
      "4         0.0165      0.9251     0.0116      0.0032     0.0008     0.0006   \n",
      "5         0.7807      0.1092     0.0399      0.0113     0.0035     0.0009   \n",
      "6         0.7817      0.1185     0.0189      0.0062     0.0152     0.0007   \n",
      "7         0.5355      0.3510     0.0070      0.0241     0.0051     0.0017   \n",
      "8         0.8420      0.0671     0.0323      0.0250     0.0063     0.0001   \n",
      "9         0.7912      0.1137     0.0208      0.0535     0.0097     0.0000   \n",
      "10        0.3283      0.5913     0.0217      0.0152     0.0109     0.0087   \n",
      "11        0.3996      0.5079     0.0241      0.0026     0.0061     0.0026   \n",
      "12        0.6310      0.2164     0.0345      0.0060     0.0095     0.0009   \n",
      "13        0.7586      0.1552     0.0172      0.0000     0.0345     0.0000   \n",
      "14        0.6981      0.2214     0.0124      0.0059     0.0075     0.0006   \n",
      "15        0.7802      0.1555     0.0080      0.0054     0.0054     0.0027   \n",
      "16        0.4511      0.4004     0.0225      0.0026     0.0016     0.0016   \n",
      "17        0.0161      0.9674     0.0075      0.0005     0.0000     0.0000   \n",
      "18        0.6159      0.2296     0.0174      0.0070     0.0167     0.0014   \n",
      "19        0.7164      0.1492     0.0372      0.0078     0.0051     0.0000   \n",
      "20        0.7102      0.1416     0.0281      0.0042     0.0104     0.0012   \n",
      "21        0.0047      0.8435     0.0308      0.0024     0.0065     0.0000   \n",
      "22        0.8143      0.0690     0.0521      0.0108     0.0032     0.0000   \n",
      "23        0.0513      0.9423     0.0000      0.0000     0.0000     0.0000   \n",
      "24        0.5896      0.2432     0.0279      0.0324     0.0067     0.0013   \n",
      "25        0.6852      0.1314     0.0393      0.0111     0.0082     0.0015   \n",
      "26        0.0581      0.9122     0.0130      0.0000     0.0000     0.0000   \n",
      "27        0.0283      0.8868     0.0468      0.0022     0.0000     0.0000   \n",
      "28        0.5345      0.3092     0.0357      0.0082     0.0073     0.0010   \n",
      "29        0.0044      0.8986     0.0020      0.0072     0.0000     0.0000   \n",
      "...          ...         ...        ...         ...        ...        ...   \n",
      "2028      0.1046      0.4609     0.0433      0.0045     0.0045     0.0039   \n",
      "2029      0.1860      0.5163     0.0279      0.0000     0.0023     0.0023   \n",
      "2030      0.1339      0.4595     0.0182      0.0099     0.0050     0.0033   \n",
      "2031      0.2315      0.3872     0.0319      0.0040     0.0080     0.0060   \n",
      "2032      0.2263      0.1724     0.1530      0.0195     0.0018     0.0177   \n",
      "2034      0.3268      0.2683     0.0390      0.0146     0.0341     0.0049   \n",
      "2035      0.2531      0.3950     0.0274      0.0039     0.0039     0.0016   \n",
      "2036      0.1244      0.2523     0.1870      0.0069     0.0015     0.0048   \n",
      "2037      0.1893      0.3086     0.0590      0.0055     0.0041     0.0014   \n",
      "2038      0.1085      0.3672     0.0577      0.0000     0.0069     0.0023   \n",
      "2039      1.0000      0.0000     0.0000      0.0000     0.0000     0.0000   \n",
      "2040      0.0913      0.2395     0.5856      0.0342     0.0000     0.0000   \n",
      "2041      0.2750      0.1750     0.1750      0.0750     0.0000     0.0250   \n",
      "2042      1.0000      0.0000     0.0000      0.0000     0.0000     0.0000   \n",
      "2043      1.0000      0.0000     0.0000      0.0000     0.0000     0.0000   \n",
      "2044      1.0000      0.0000     0.0000      0.0000     0.0000     0.0000   \n",
      "2045      1.0000      0.0000     0.0000      0.0000     0.0000     0.0000   \n",
      "2046      0.6691      0.0147     0.0515      0.0294     0.0000     0.0000   \n",
      "2047      0.8364      0.0727     0.0545      0.0364     0.0000     0.0000   \n",
      "2048      0.5818      0.2033     0.0855      0.0429     0.0022     0.0013   \n",
      "2049      0.8221      0.0397     0.0577      0.0216     0.0048     0.0012   \n",
      "2050      0.2899      0.1124     0.1361      0.3136     0.0000     0.0651   \n",
      "2051      0.7075      0.1701     0.0408      0.0612     0.0000     0.0000   \n",
      "2052      0.3802      0.2975     0.1653      0.1240     0.0000     0.0000   \n",
      "2053      0.7262      0.0714     0.0476      0.0357     0.0119     0.0119   \n",
      "2054      0.6792      0.2226     0.0264      0.0491     0.0000     0.0000   \n",
      "2055      0.4625      0.0425     0.4150      0.0250     0.0200     0.0025   \n",
      "2056      0.0000      0.0000     0.0000      0.0000     0.0000     0.0000   \n",
      "2057      0.8794      0.0386     0.0162      0.0070     0.0050     0.0031   \n",
      "2058      0.5838      0.0777     0.1019      0.0501     0.0173     0.0190   \n",
      "\n",
      "      UGDS_UNKN  \n",
      "0        0.0266  \n",
      "1        0.0085  \n",
      "2        0.4253  \n",
      "3        0.0300  \n",
      "4        0.0099  \n",
      "5        0.0029  \n",
      "6        0.0344  \n",
      "7        0.0123  \n",
      "8        0.0085  \n",
      "9        0.0022  \n",
      "10       0.0217  \n",
      "11       0.0162  \n",
      "12       0.0690  \n",
      "13       0.0000  \n",
      "14       0.0281  \n",
      "15       0.0107  \n",
      "16       0.0387  \n",
      "17       0.0011  \n",
      "18       0.0348  \n",
      "19       0.0454  \n",
      "20       0.0393  \n",
      "21       0.0421  \n",
      "22       0.0054  \n",
      "23       0.0064  \n",
      "24       0.0203  \n",
      "25       0.0416  \n",
      "26       0.0000  \n",
      "27       0.0359  \n",
      "28       0.0411  \n",
      "29       0.0841  \n",
      "...         ...  \n",
      "2028     0.3060  \n",
      "2029     0.2372  \n",
      "2030     0.3240  \n",
      "2031     0.2715  \n",
      "2032     0.3165  \n",
      "2034     0.2488  \n",
      "2035     0.2618  \n",
      "2036     0.3472  \n",
      "2037     0.3745  \n",
      "2038     0.3741  \n",
      "2039     0.0000  \n",
      "2040     0.0076  \n",
      "2041     0.1750  \n",
      "2042     0.0000  \n",
      "2043     0.0000  \n",
      "2044     0.0000  \n",
      "2045     0.0000  \n",
      "2046     0.1838  \n",
      "2047     0.0000  \n",
      "2048     0.0222  \n",
      "2049     0.0012  \n",
      "2050     0.0473  \n",
      "2051     0.0068  \n",
      "2052     0.0248  \n",
      "2053     0.0119  \n",
      "2054     0.0226  \n",
      "2055     0.0125  \n",
      "2056     0.0000  \n",
      "2057     0.0073  \n",
      "2058     0.1036  \n",
      "\n",
      "[1996 rows x 7 columns]\n"
     ]
    }
   ],
   "source": [
    "oy=Y[X['STABBR']!=home_state]\n",
    "pprint(oy)"
   ]
  },
  {
   "cell_type": "code",
   "execution_count": 37,
   "metadata": {},
   "outputs": [
    {
     "name": "stdout",
     "output_type": "stream",
     "text": [
      "[0.28307029548989115,\n",
      " 0.09408304821150856,\n",
      " 0.3764099533437014,\n",
      " 0.11225194401244168,\n",
      " 0.005662363919129083,\n",
      " 0.009393001555209954,\n",
      " 0.04983794712286159]\n",
      "[[217998, 'Erskine College', '29639', 'Due West', 'SC'],\n",
      " [137962, 'Trinity College of Florida', '34655-4401', 'Trinity', 'FL'],\n",
      " [183211, 'Rivier University', '03060', 'Nashua', 'NH'],\n",
      " [217059, 'York College Pennsylvania', '17403-3651', 'York', 'PA'],\n",
      " [122296, 'Samuel Merritt University', '94609', 'Oakland', 'CA'],\n",
      " [176035, 'Mississippi University for Women', '39701', 'Columbus', 'MS'],\n",
      " [218663, 'University of South Carolina-Columbia', '29208', 'Columbia', 'SC'],\n",
      " [243823, 'Parker University', '75229-5668', 'Dallas', 'TX'],\n",
      " [176372,\n",
      "  'University of Southern Mississippi',\n",
      "  '39406-0001',\n",
      "  'Hattiesburg',\n",
      "  'MS'],\n",
      " [217235,\n",
      "  'Johnson & Wales University-Providence',\n",
      "  '02903-3703',\n",
      "  'Providence',\n",
      "  'RI']]\n",
      "[[174358, 'Minnesota State University Moorhead', '56563', 'Moorhead', 'MN'],\n",
      " [177816, 'Kenrick Glennon Seminary', '63119-4399', 'Saint Louis', 'MO'],\n",
      " [217165, 'Bryant University', '02917-1291', 'Smithfield', 'RI'],\n",
      " [139199, 'Brenau University', '30501-3668', 'Gainesville', 'GA'],\n",
      " [121691, 'University of Redlands', '92373-0999', 'Redlands', 'CA'],\n",
      " [177065, 'Columbia College', '65216', 'Columbia', 'MO'],\n",
      " [183275, 'Thomas More College of Liberal Arts', '03054', 'Merrimack', 'NH'],\n",
      " [110714,\n",
      "  'University of California-Santa Cruz',\n",
      "  '95064-1011',\n",
      "  'Santa Cruz',\n",
      "  'CA'],\n",
      " [176406, 'Tougaloo College', '39174', 'Tougaloo', 'MS'],\n",
      " [218441, 'North Greenville University', '29688-1892', 'Tigerville', 'SC']]\n"
     ]
    }
   ],
   "source": [
    "oy=Y[X['STABBR']!=home_state]\n",
    "nbrs = NearestNeighbors(n_neighbors=len(homestates), algorithm='brute',metric='l1').fit(oy.values)\n",
    "d,i=nbrs.kneighbors(np.asarray(homestates[home_state]).reshape((1,-1)))\n",
    "for option in options:\n",
    "    if option==1:\n",
    "        pprint(homestates[home_state])\n",
    "    elif option==2:\n",
    "        pprint(X.values[i[0]][:10].tolist())\n",
    "    else:\n",
    "        pprint(X.values[i[0]][-10:].tolist())"
   ]
  }
 ],
 "metadata": {
  "kernelspec": {
   "display_name": "Python 3",
   "language": "python",
   "name": "python3"
  },
  "language_info": {
   "codemirror_mode": {
    "name": "ipython",
    "version": 3
   },
   "file_extension": ".py",
   "mimetype": "text/x-python",
   "name": "python",
   "nbconvert_exporter": "python",
   "pygments_lexer": "ipython3",
   "version": "3.6.3"
  }
 },
 "nbformat": 4,
 "nbformat_minor": 2
}
