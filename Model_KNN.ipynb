{
 "cells": [
  {
   "cell_type": "code",
   "execution_count": 566,
   "metadata": {},
   "outputs": [],
   "source": [
    "import pandas as pd\n",
    "import matplotlib.pyplot as plt\n",
    "import numpy as np\n",
    "import pickle\n",
    "from sklearn.decomposition import PCA\n",
    "from sklearn.preprocessing import StandardScaler, MinMaxScaler\n",
    "from sklearn.neighbors import NearestNeighbors"
   ]
  },
  {
   "cell_type": "markdown",
   "metadata": {},
   "source": [
    "## Method to standardize data"
   ]
  },
  {
   "cell_type": "code",
   "execution_count": null,
   "metadata": {},
   "outputs": [],
   "source": [
    "def standardize_data(df_sc):\n",
    "  sc = StandardScaler()\n",
    "  temp = sc.fit_transform(df_sc)\n",
    "  df_sc[df_sc.columns] = temp\n",
    "  return sc, df_sc"
   ]
  },
  {
   "cell_type": "markdown",
   "metadata": {},
   "source": [
    "## Method to apply PCA"
   ]
  },
  {
   "cell_type": "code",
   "execution_count": 568,
   "metadata": {},
   "outputs": [],
   "source": [
    "def apply_pca(df_pca):\n",
    "  pca = PCA(n_components=10)\n",
    "  df_pca = pca.fit_transform(df_pca)\n",
    "  return pca, df_pca"
   ]
  },
  {
   "cell_type": "markdown",
   "metadata": {},
   "source": [
    "## KNN implementation"
   ]
  },
  {
   "cell_type": "code",
   "execution_count": 569,
   "metadata": {},
   "outputs": [],
   "source": [
    "df = pd.read_csv(\"cleaned_data.csv\")"
   ]
  },
  {
   "cell_type": "code",
   "execution_count": 570,
   "metadata": {},
   "outputs": [],
   "source": [
    "user_input = {'HIGHDEG': 4, 'SAT_AVG': 1500, 'ACTCMMID': 32, 'UGDS_WHITE': 1, 'UGDS_BLACK': 0, \n",
    "'UGDS_HISP': 0, 'UGDS_ASIAN': 0, 'UGDS_AIAN': 0, 'UGDS_NHPI': 0, 'UGDS_2MOR': 0, 'UGDS_NRA': 0, \n",
    "'UGDS_UNKN': 0, 'UG25ABV': 0, 'PPTUG_EF': 0, 'INC_PCT_LO': 0 , 'INC_PCT_M1': 0, 'INC_PCT_M2': 1, \n",
    "'INC_PCT_H1': 0, 'INC_PCT_H2': 0, 'PAR_ED_PCT_1STGEN': 0, 'C150_4': 1, 'PCIP14': 1}"
   ]
  },
  {
   "cell_type": "code",
   "execution_count": 571,
   "metadata": {},
   "outputs": [],
   "source": [
    "user_filters = {'ADM_RATE': [0.1,1], 'UGDS': [5000,50000], 'TUITIONFEE_IN': [0,40000], \n",
    "                  'TUITIONFEE_OUT': None, 'STABBR': ['NC'], 'MAIN': 1, 'CONTROL': None, \n",
    "                  'RELAFFIL': None, 'DISTANCEONLY': 0, 'HBCU': None, 'PBI': 0, 'ANNHI': 0,\n",
    "                  'HSI': 0, 'NANTI': 0, 'MENONLY': None, 'WOMENONLY': None,\n",
    "                  'CIP14BACHL': 1, 'GRAD_DEBT_MDN10YR': [0,300]}"
   ]
  },
  {
   "cell_type": "code",
   "execution_count": 572,
   "metadata": {},
   "outputs": [],
   "source": [
    "df_knn = df.copy()"
   ]
  },
  {
   "cell_type": "code",
   "execution_count": 573,
   "metadata": {},
   "outputs": [
    {
     "data": {
      "text/plain": [
       "['NC']"
      ]
     },
     "execution_count": 573,
     "metadata": {},
     "output_type": "execute_result"
    }
   ],
   "source": [
    "#Filtering the Data Frame on State Values\n",
    "states = user_filters[\"STABBR\"]\n",
    "if len(states) > 0:\n",
    "    df_knn = df_knn.loc[df_knn['STABBR'].isin(states)]\n",
    "user_filters.pop(\"STABBR\", None)"
   ]
  },
  {
   "cell_type": "code",
   "execution_count": 574,
   "metadata": {},
   "outputs": [],
   "source": [
    "#Dropping input keys which are of no concern to the user\n",
    "input_keys_to_drop = []\n",
    "for key in user_input:\n",
    "    if user_input[key] == None:\n",
    "        cols_to_drop.append(key)\n",
    "        input_keys_to_drop.append(key)\n",
    "for key in input_keys_to_drop:\n",
    "    user_input.pop(key, None)"
   ]
  },
  {
   "cell_type": "code",
   "execution_count": 575,
   "metadata": {},
   "outputs": [],
   "source": [
    "#Adding all the columns except the user input to the drop list\n",
    "cols_to_drop = [col for col in df_knn.columns if col not in user_input.keys()]"
   ]
  },
  {
   "cell_type": "code",
   "execution_count": 576,
   "metadata": {},
   "outputs": [],
   "source": [
    "#Filtering the data further based on user specified filters\n",
    "for col,val in user_filters.items():\n",
    "    if val:\n",
    "        if isinstance(val, list):\n",
    "            df_knn = df_knn[df_knn[col].between(val[0], val[1])]\n",
    "        else:\n",
    "            df_knn = df_knn.loc[df_knn[col] == val]    "
   ]
  },
  {
   "cell_type": "code",
   "execution_count": 577,
   "metadata": {},
   "outputs": [],
   "source": [
    "#Dropping all the columns in the drop list\n",
    "df_knn.drop(cols_to_drop, axis=1, inplace=True)"
   ]
  },
  {
   "cell_type": "code",
   "execution_count": 578,
   "metadata": {},
   "outputs": [],
   "source": [
    "#Standardizing the data\n",
    "sc, df_knn_sc = standardize_data(df_knn) "
   ]
  },
  {
   "cell_type": "code",
   "execution_count": 545,
   "metadata": {},
   "outputs": [
    {
     "data": {
      "text/plain": [
       "array([1.24957436e+01, 6.61351418e+00, 3.92873487e+00, 1.76694602e+00,\n",
       "       3.95061287e-01, 2.24491078e-31])"
      ]
     },
     "execution_count": 545,
     "metadata": {},
     "output_type": "execute_result"
    }
   ],
   "source": [
    "#Applying PCA to reduce dimensionality\n",
    "pca, df_pca = apply_pca(df_knn_sc)"
   ]
  },
  {
   "cell_type": "code",
   "execution_count": 579,
   "metadata": {},
   "outputs": [],
   "source": [
    "#Putting the User input into a data frame\n",
    "df_input = pd.DataFrame(data=None, columns=df_knn_sc.columns)\n",
    "df_input = df_input.append(user_input, ignore_index=True)"
   ]
  },
  {
   "cell_type": "code",
   "execution_count": 580,
   "metadata": {},
   "outputs": [],
   "source": [
    "#Standardizing the user input\n",
    "temp1 = sc.transform(df_input)\n",
    "df_input[df_input.columns] = temp1"
   ]
  },
  {
   "cell_type": "code",
   "execution_count": 581,
   "metadata": {},
   "outputs": [],
   "source": [
    "#Checking if at least 10 rows are there in the dataset,\n",
    "#if not reducing the number of final results\n",
    "n = 10\n",
    "if df_knn_sc.shape[0] < 10:\n",
    "    n = df_knn_sc.shape[0]"
   ]
  },
  {
   "cell_type": "code",
   "execution_count": 582,
   "metadata": {},
   "outputs": [],
   "source": [
    "#Fitting Nearest Neighbors on the dataset \n",
    "nbrs = NearestNeighbors(n_neighbors=n, algorithm='kd_tree').fit(df_pca)\n",
    "distances, indices = nbrs.kneighbors(pca.transform(df_input))"
   ]
  },
  {
   "cell_type": "code",
   "execution_count": 584,
   "metadata": {},
   "outputs": [
    {
     "data": {
      "text/html": [
       "<div>\n",
       "<style>\n",
       "    .dataframe thead tr:only-child th {\n",
       "        text-align: right;\n",
       "    }\n",
       "\n",
       "    .dataframe thead th {\n",
       "        text-align: left;\n",
       "    }\n",
       "\n",
       "    .dataframe tbody tr th {\n",
       "        vertical-align: top;\n",
       "    }\n",
       "</style>\n",
       "<table border=\"1\" class=\"dataframe\">\n",
       "  <thead>\n",
       "    <tr style=\"text-align: right;\">\n",
       "      <th></th>\n",
       "      <th>OPEID</th>\n",
       "      <th>UNITID</th>\n",
       "      <th>INSTNM</th>\n",
       "      <th>CITY</th>\n",
       "      <th>STABBR</th>\n",
       "      <th>ZIP</th>\n",
       "      <th>MAIN</th>\n",
       "      <th>HIGHDEG</th>\n",
       "      <th>CONTROL</th>\n",
       "      <th>RELAFFIL</th>\n",
       "      <th>...</th>\n",
       "      <th>PCIP44</th>\n",
       "      <th>PCIP45</th>\n",
       "      <th>PCIP46</th>\n",
       "      <th>PCIP47</th>\n",
       "      <th>PCIP48</th>\n",
       "      <th>PCIP49</th>\n",
       "      <th>PCIP50</th>\n",
       "      <th>PCIP51</th>\n",
       "      <th>PCIP52</th>\n",
       "      <th>PCIP54</th>\n",
       "    </tr>\n",
       "  </thead>\n",
       "  <tbody>\n",
       "    <tr>\n",
       "      <th>1106</th>\n",
       "      <td>297200</td>\n",
       "      <td>199193</td>\n",
       "      <td>North Carolina State University at Raleigh</td>\n",
       "      <td>Raleigh</td>\n",
       "      <td>NC</td>\n",
       "      <td>27695-7001</td>\n",
       "      <td>1</td>\n",
       "      <td>4</td>\n",
       "      <td>1</td>\n",
       "      <td>-1.0</td>\n",
       "      <td>...</td>\n",
       "      <td>0.0098</td>\n",
       "      <td>0.0510</td>\n",
       "      <td>0.0</td>\n",
       "      <td>0.0</td>\n",
       "      <td>0.0</td>\n",
       "      <td>0.0</td>\n",
       "      <td>0.0232</td>\n",
       "      <td>0.0000</td>\n",
       "      <td>0.1381</td>\n",
       "      <td>0.0110</td>\n",
       "    </tr>\n",
       "    <tr>\n",
       "      <th>1080</th>\n",
       "      <td>292300</td>\n",
       "      <td>198464</td>\n",
       "      <td>East Carolina University</td>\n",
       "      <td>Greenville</td>\n",
       "      <td>NC</td>\n",
       "      <td>27858-4353</td>\n",
       "      <td>1</td>\n",
       "      <td>4</td>\n",
       "      <td>1</td>\n",
       "      <td>-1.0</td>\n",
       "      <td>...</td>\n",
       "      <td>0.0135</td>\n",
       "      <td>0.0527</td>\n",
       "      <td>0.0</td>\n",
       "      <td>0.0</td>\n",
       "      <td>0.0</td>\n",
       "      <td>0.0</td>\n",
       "      <td>0.0436</td>\n",
       "      <td>0.1866</td>\n",
       "      <td>0.1728</td>\n",
       "      <td>0.0072</td>\n",
       "    </tr>\n",
       "    <tr>\n",
       "      <th>1125</th>\n",
       "      <td>298100</td>\n",
       "      <td>200004</td>\n",
       "      <td>Western Carolina University</td>\n",
       "      <td>Cullowhee</td>\n",
       "      <td>NC</td>\n",
       "      <td>28723-9646</td>\n",
       "      <td>1</td>\n",
       "      <td>4</td>\n",
       "      <td>1</td>\n",
       "      <td>-1.0</td>\n",
       "      <td>...</td>\n",
       "      <td>0.0578</td>\n",
       "      <td>0.0400</td>\n",
       "      <td>0.0</td>\n",
       "      <td>0.0</td>\n",
       "      <td>0.0</td>\n",
       "      <td>0.0</td>\n",
       "      <td>0.0477</td>\n",
       "      <td>0.1830</td>\n",
       "      <td>0.1603</td>\n",
       "      <td>0.0183</td>\n",
       "    </tr>\n",
       "    <tr>\n",
       "      <th>1102</th>\n",
       "      <td>297500</td>\n",
       "      <td>199139</td>\n",
       "      <td>University of North Carolina at Charlotte</td>\n",
       "      <td>Charlotte</td>\n",
       "      <td>NC</td>\n",
       "      <td>28223-0001</td>\n",
       "      <td>1</td>\n",
       "      <td>4</td>\n",
       "      <td>1</td>\n",
       "      <td>-1.0</td>\n",
       "      <td>...</td>\n",
       "      <td>0.0117</td>\n",
       "      <td>0.0924</td>\n",
       "      <td>0.0</td>\n",
       "      <td>0.0</td>\n",
       "      <td>0.0</td>\n",
       "      <td>0.0</td>\n",
       "      <td>0.0250</td>\n",
       "      <td>0.0833</td>\n",
       "      <td>0.1839</td>\n",
       "      <td>0.0326</td>\n",
       "    </tr>\n",
       "    <tr>\n",
       "      <th>1099</th>\n",
       "      <td>290500</td>\n",
       "      <td>199102</td>\n",
       "      <td>North Carolina A &amp; T State University</td>\n",
       "      <td>Greensboro</td>\n",
       "      <td>NC</td>\n",
       "      <td>27411</td>\n",
       "      <td>1</td>\n",
       "      <td>4</td>\n",
       "      <td>1</td>\n",
       "      <td>-1.0</td>\n",
       "      <td>...</td>\n",
       "      <td>0.0487</td>\n",
       "      <td>0.0580</td>\n",
       "      <td>0.0</td>\n",
       "      <td>0.0</td>\n",
       "      <td>0.0</td>\n",
       "      <td>0.0</td>\n",
       "      <td>0.0363</td>\n",
       "      <td>0.0232</td>\n",
       "      <td>0.1021</td>\n",
       "      <td>0.0054</td>\n",
       "    </tr>\n",
       "    <tr>\n",
       "      <th>1082</th>\n",
       "      <td>292700</td>\n",
       "      <td>198516</td>\n",
       "      <td>Elon University</td>\n",
       "      <td>Elon</td>\n",
       "      <td>NC</td>\n",
       "      <td>27244-2010</td>\n",
       "      <td>1</td>\n",
       "      <td>4</td>\n",
       "      <td>2</td>\n",
       "      <td>-1.0</td>\n",
       "      <td>...</td>\n",
       "      <td>0.0555</td>\n",
       "      <td>0.0943</td>\n",
       "      <td>0.0</td>\n",
       "      <td>0.0</td>\n",
       "      <td>0.0</td>\n",
       "      <td>0.0</td>\n",
       "      <td>0.0601</td>\n",
       "      <td>0.0000</td>\n",
       "      <td>0.2479</td>\n",
       "      <td>0.0106</td>\n",
       "    </tr>\n",
       "  </tbody>\n",
       "</table>\n",
       "<p>6 rows × 136 columns</p>\n",
       "</div>"
      ],
      "text/plain": [
       "       OPEID  UNITID                                      INSTNM        CITY  \\\n",
       "1106  297200  199193  North Carolina State University at Raleigh     Raleigh   \n",
       "1080  292300  198464                    East Carolina University  Greenville   \n",
       "1125  298100  200004                 Western Carolina University   Cullowhee   \n",
       "1102  297500  199139   University of North Carolina at Charlotte   Charlotte   \n",
       "1099  290500  199102       North Carolina A & T State University  Greensboro   \n",
       "1082  292700  198516                             Elon University        Elon   \n",
       "\n",
       "     STABBR         ZIP  MAIN  HIGHDEG  CONTROL  RELAFFIL   ...    PCIP44  \\\n",
       "1106     NC  27695-7001     1        4        1      -1.0   ...    0.0098   \n",
       "1080     NC  27858-4353     1        4        1      -1.0   ...    0.0135   \n",
       "1125     NC  28723-9646     1        4        1      -1.0   ...    0.0578   \n",
       "1102     NC  28223-0001     1        4        1      -1.0   ...    0.0117   \n",
       "1099     NC       27411     1        4        1      -1.0   ...    0.0487   \n",
       "1082     NC  27244-2010     1        4        2      -1.0   ...    0.0555   \n",
       "\n",
       "      PCIP45  PCIP46  PCIP47  PCIP48  PCIP49  PCIP50  PCIP51  PCIP52  PCIP54  \n",
       "1106  0.0510     0.0     0.0     0.0     0.0  0.0232  0.0000  0.1381  0.0110  \n",
       "1080  0.0527     0.0     0.0     0.0     0.0  0.0436  0.1866  0.1728  0.0072  \n",
       "1125  0.0400     0.0     0.0     0.0     0.0  0.0477  0.1830  0.1603  0.0183  \n",
       "1102  0.0924     0.0     0.0     0.0     0.0  0.0250  0.0833  0.1839  0.0326  \n",
       "1099  0.0580     0.0     0.0     0.0     0.0  0.0363  0.0232  0.1021  0.0054  \n",
       "1082  0.0943     0.0     0.0     0.0     0.0  0.0601  0.0000  0.2479  0.0106  \n",
       "\n",
       "[6 rows x 136 columns]"
      ]
     },
     "execution_count": 584,
     "metadata": {},
     "output_type": "execute_result"
    }
   ],
   "source": [
    "#Returning the UNITIDs of the resulting universities/colleges\n",
    "df_result = df_knn_sc.iloc[indices[0]]\n",
    "df.iloc[list(df_result.index)]"
   ]
  }
 ],
 "metadata": {
  "kernelspec": {
   "display_name": "Python 3",
   "language": "python",
   "name": "python3"
  },
  "language_info": {
   "codemirror_mode": {
    "name": "ipython",
    "version": 3
   },
   "file_extension": ".py",
   "mimetype": "text/x-python",
   "name": "python",
   "nbconvert_exporter": "python",
   "pygments_lexer": "ipython3",
   "version": "3.6.4"
  }
 },
 "nbformat": 4,
 "nbformat_minor": 2
}
