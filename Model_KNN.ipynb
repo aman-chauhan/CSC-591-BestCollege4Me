{
 "cells": [
  {
   "cell_type": "code",
   "execution_count": null,
   "metadata": {},
   "outputs": [],
   "source": [
    "import pandas as pd\n",
    "import matplotlib.pyplot as plt\n",
    "import numpy as np\n",
    "import pickle\n",
    "from sklearn.decomposition import PCA\n",
    "from sklearn.preprocessing import StandardScaler, MinMaxScaler\n",
    "from sklearn.neighbors import NearestNeighbors"
   ]
  },
  {
   "cell_type": "markdown",
   "metadata": {},
   "source": [
    "## Method to standardize data"
   ]
  },
  {
   "cell_type": "code",
   "execution_count": null,
   "metadata": {},
   "outputs": [],
   "source": [
    "def standardize_data(df_sc):\n",
    "  sc = StandardScaler()\n",
    "  temp = sc.fit_transform(df_sc)\n",
    "  df_sc[df_sc.columns] = temp\n",
    "  return sc, df_sc"
   ]
  },
  {
   "cell_type": "markdown",
   "metadata": {},
   "source": [
    "## Method to apply PCA"
   ]
  },
  {
   "cell_type": "code",
   "execution_count": null,
   "metadata": {},
   "outputs": [],
   "source": [
    "def apply_pca(df_pca):\n",
    "  pca = PCA(n_components=10)\n",
    "  df_pca = pca.fit_transform(df_pca)\n",
    "  return pca, df_pca"
   ]
  },
  {
   "cell_type": "markdown",
   "metadata": {},
   "source": [
    "## KNN implementation"
   ]
  },
  {
   "cell_type": "code",
   "execution_count": null,
   "metadata": {},
   "outputs": [],
   "source": [
    "df = pd.read_csv(\"bestcollegesite/bestcollege/data/cleaned_data.csv\")"
   ]
  },
  {
   "cell_type": "code",
   "execution_count": null,
   "metadata": {},
   "outputs": [],
   "source": [
    "importance = {'HIGHDEG': 8, 'SAT_AVG': 1, 'ACTCMMID': 1, 'UGDS_WHITE': 4, 'UGDS_BLACK': 4, \n",
    "                'UGDS_HISP': 4, 'UGDS_ASIAN': 4, 'UGDS_AIAN': 4, 'UGDS_NHPI': 4, 'UGDS_2MOR': 4, \n",
    "                'UGDS_NRA': 4, 'UGDS_UNKN': 4, 'UG25ABV': 3, 'PPTUG_EF': 4, 'INC_PCT_LO': 3 , \n",
    "                'INC_PCT_M1': 3, 'INC_PCT_M2': 3, 'INC_PCT_H1': 3, 'INC_PCT_H2': 3, \n",
    "                'PAR_ED_PCT_1STGEN': 4, 'C150_4': 1, 'PCIP14': 1, 'RPY_7YR_RT': 1, \n",
    "                'RPY_3YR_RT': 1, 'RPY_5YR_RT': 1, \"MD_EARN_WNE_P6\":1, \"MD_EARN_WNE_P10\":1, \n",
    "                'ADM_RATE': 1, 'COSTT4_A':1 , 'SPRING_TAVG': 2, 'SUMMER_TAVG': 2, 'FALL_TAVG': 2,\n",
    "                'WINTER_TAVG': 2}"
   ]
  },
  {
   "cell_type": "code",
   "execution_count": null,
   "metadata": {},
   "outputs": [],
   "source": [
    "user_input = { 'HIGHDEG' : 4, 'SAT_AVG' : 1600, 'ACTCMMID' : 32, \n",
    "            'UGDS_WHITE' : 0.28307029548989115, 'UGDS_BLACK' : 0.09408304821150856,\n",
    "            'UGDS_HISP' : 0.3764099533437014, 'UGDS_ASIAN' : 0.11225194401244168, \n",
    "            'UGDS_AIAN' : 0.005662363919129083, 'UGDS_NHPI' : 0.009393001555209954, \n",
    "            'UG25ABV' : 0, 'PPTUG_EF' : 0, \n",
    "            'INC_PCT_LO' : 0,\n",
    "            'INC_PCT_M1' : 0, \n",
    "            'INC_PCT_M2' : 0,\n",
    "            'INC_PCT_H1' : 1, \n",
    "            'INC_PCT_H2' : 0,\n",
    "            'PAR_ED_PCT_1STGEN' : 0, 'C150_4' : 1, 'PCIP14' : 1, 'ADM_RATE': 0.6, \n",
    "            'MD_EARN_WNE_P10': 60000, 'RPY_3YR_RT': 1,\n",
    "            'MD_EARN_WNE_P6':  60000,'RPY_7YR_RT': 1, 'RPY_5YR_RT': 1,\n",
    "            'SPRING_TAVG': 65.0,'SUMMER_TAVG': 85.0,\n",
    "            'FALL_TAVG': 60.0, 'WINTER_TAVG': 45.0\n",
    "            }"
   ]
  },
  {
   "cell_type": "code",
   "execution_count": null,
   "metadata": {},
   "outputs": [],
   "source": [
    "user_filters = { 'ADM_RATE' : [0.6,1], \n",
    "        'UGDS' : [2500,10000],\n",
    "        'TUITIONFEE_IN' : [0,40000], 'TUITIONFEE_OUT' : None, 'STABBR' : ['CA'], \n",
    "        'MAIN' : 1, 'CONTROL' : 1,\n",
    "        'RELAFFIL' : None, 'DISTANCEONLY' : 0, \n",
    "        'HBCU': 0, 'PBI': 0,\n",
    "        'ANNHI': 0, 'HSI': 0, \n",
    "        'NANTI': 0, 'MENONLY': None, 'WOMENONLY': None, \n",
    "        'CIP14BACHL': 1, 'GRAD_DEBT_MDN10YR': [0,250] }"
   ]
  },
  {
   "cell_type": "code",
   "execution_count": null,
   "metadata": {},
   "outputs": [],
   "source": [
    "df_knn = df.copy()"
   ]
  },
  {
   "cell_type": "code",
   "execution_count": null,
   "metadata": {},
   "outputs": [],
   "source": [
    "#Filtering the Data Frame on State Values\n",
    "states = user_filters[\"STABBR\"]\n",
    "if len(states) > 0:\n",
    "    df_knn = df_knn.loc[df_knn['STABBR'].isin(states)]\n",
    "user_filters.pop(\"STABBR\", None)"
   ]
  },
  {
   "cell_type": "code",
   "execution_count": null,
   "metadata": {},
   "outputs": [],
   "source": [
    "#Adding all the columns except the user input to the drop list\n",
    "cols_to_drop = [col for col in df_knn.columns if col not in user_input.keys()]"
   ]
  },
  {
   "cell_type": "code",
   "execution_count": null,
   "metadata": {},
   "outputs": [],
   "source": [
    "#Dropping input keys which are of no concern to the user\n",
    "input_keys_to_drop = []\n",
    "for key in user_input:\n",
    "    if user_input[key] == None:\n",
    "        cols_to_drop.append(key)\n",
    "        input_keys_to_drop.append(key)\n",
    "for key in input_keys_to_drop:\n",
    "    user_input.pop(key, None)"
   ]
  },
  {
   "cell_type": "code",
   "execution_count": null,
   "metadata": {},
   "outputs": [],
   "source": [
    "#Filtering the data further based on user specified filters\n",
    "for col,val in user_filters.items():\n",
    "    if val:\n",
    "        if isinstance(val, list):\n",
    "            df_knn = df_knn[df_knn[col].between(val[0], val[1])]\n",
    "        else:\n",
    "            df_knn = df_knn.loc[df_knn[col] == val]    "
   ]
  },
  {
   "cell_type": "code",
   "execution_count": null,
   "metadata": {},
   "outputs": [],
   "source": [
    "#Dropping all the columns in the drop list\n",
    "df_knn.drop(cols_to_drop, axis=1, inplace=True)"
   ]
  },
  {
   "cell_type": "code",
   "execution_count": null,
   "metadata": {},
   "outputs": [],
   "source": [
    "#Standardizing the data\n",
    "sc, df_knn_sc = standardize_data(df_knn) "
   ]
  },
  {
   "cell_type": "code",
   "execution_count": null,
   "metadata": {},
   "outputs": [],
   "source": [
    "#Assigning weights to features for a weighted KNN\n",
    "for col in list(df_knn_sc.columns):\n",
    "    df_knn_sc[col] = df_knn_sc[col].apply(lambda x: x*importance[col])"
   ]
  },
  {
   "cell_type": "code",
   "execution_count": null,
   "metadata": {},
   "outputs": [],
   "source": [
    "#Applying PCA to reduce dimensionality\n",
    "pca, df_pca = apply_pca(df_knn_sc)"
   ]
  },
  {
   "cell_type": "code",
   "execution_count": null,
   "metadata": {},
   "outputs": [],
   "source": [
    "#Putting the User input into a data frame\n",
    "df_input = pd.DataFrame(data=None, columns=df_knn_sc.columns)\n",
    "df_input = df_input.append(user_input, ignore_index=True)"
   ]
  },
  {
   "cell_type": "code",
   "execution_count": null,
   "metadata": {},
   "outputs": [],
   "source": [
    "#Standardizing the user input\n",
    "temp1 = sc.transform(df_input)\n",
    "df_input[df_input.columns] = temp1"
   ]
  },
  {
   "cell_type": "code",
   "execution_count": null,
   "metadata": {},
   "outputs": [],
   "source": [
    "#Assigning weights to input features\n",
    "for col in list(df_input.columns):\n",
    "    df_input[col] = df_input[col].apply(lambda x: x*importance[col])"
   ]
  },
  {
   "cell_type": "code",
   "execution_count": null,
   "metadata": {},
   "outputs": [],
   "source": [
    "#Checking if at least 10 rows are there in the dataset,\n",
    "#if not reducing the number of final results\n",
    "n = 10\n",
    "if df_knn_sc.shape[0] < 10:\n",
    "    n = df_knn_sc.shape[0]"
   ]
  },
  {
   "cell_type": "code",
   "execution_count": null,
   "metadata": {},
   "outputs": [],
   "source": [
    "df_knn.head()"
   ]
  },
  {
   "cell_type": "code",
   "execution_count": null,
   "metadata": {},
   "outputs": [],
   "source": [
    "#Fitting Nearest Neighbors on the dataset \n",
    "nbrs = NearestNeighbors(n_neighbors=n, algorithm='kd_tree', metric='manhattan').fit(df_pca)\n",
    "distances, indices = nbrs.kneighbors(pca.transform(df_input))"
   ]
  },
  {
   "cell_type": "code",
   "execution_count": null,
   "metadata": {},
   "outputs": [],
   "source": [
    "#Returning the UNITIDs of the resulting universities/colleges\n",
    "df_result = df_knn_sc.iloc[indices[0]]\n",
    "df.iloc[list(df_result.index)]"
   ]
  },
  {
   "cell_type": "markdown",
   "metadata": {},
   "source": [
    "# Experiments"
   ]
  },
  {
   "cell_type": "code",
   "execution_count": null,
   "metadata": {},
   "outputs": [],
   "source": [
    "import matplotlib.pyplot as plt\n",
    "%matplotlib inline"
   ]
  },
  {
   "cell_type": "code",
   "execution_count": null,
   "metadata": {},
   "outputs": [],
   "source": [
    "df_exp=df.copy()\n",
    "\n",
    "cols_to_drop = [col for col in df_exp.columns if col not in user_input.keys()]\n",
    "\n",
    "df_exp.drop(cols_to_drop, axis=1, inplace=True)"
   ]
  },
  {
   "cell_type": "code",
   "execution_count": null,
   "metadata": {},
   "outputs": [],
   "source": [
    "sc, df_exp_sc = standardize_data(df_exp) \n",
    "for col in list(df_exp_sc.columns):\n",
    "    df_exp_sc[col] = df_exp_sc[col].apply(lambda x: x*importance[col])\n",
    "\n",
    "pca, df_pca = apply_pca(df_exp_sc)"
   ]
  },
  {
   "cell_type": "markdown",
   "metadata": {},
   "source": [
    "## Manhattan Distance"
   ]
  },
  {
   "cell_type": "code",
   "execution_count": null,
   "metadata": {},
   "outputs": [],
   "source": [
    "zips=df['ZIP'].tolist()\n",
    "zips=[zips[i].split(\"-\")[0] for i in range(len(zips))]\n",
    "df2=pd.read_csv('zip2latlong.csv')\n",
    "z=df2['ZIP']\n",
    "l1=df2['LAT']\n",
    "l2=df2['LNG']\n",
    "d={format(z[i],'05'):{'lat':l1[i],'lng':l2[i]} for i in range(len(z))}\n",
    "lats=[d[zips[i]]['lat'] if zips[i] in d else 0.0 for i in range(len(zips))]\n",
    "lngs=[d[zips[i]]['lng'] if zips[i] in d else 0.0 for i in range(len(zips))]\n",
    "\n",
    "nbrs10dkm=NearestNeighbors(n_neighbors=10,algorithm='kd_tree',metric='manhattan').fit(df_pca)\n",
    "X,Y=nbrs10dkm.kneighbors_graph(df_pca).nonzero()\n",
    "X=X.tolist()\n",
    "Y=Y.tolist()\n",
    "plt.figure(figsize=(40,20))\n",
    "\n",
    "for i in range(len(X)):\n",
    "    if (lats[X[i]]==0.0 and lngs[X[i]]==0.0) or (lats[X[i]]<24.0 or lats[X[i]]>50.0) or (lngs[X[i]]<-125.0 or lngs[X[i]]>-50.0):\n",
    "        continue\n",
    "    if (lats[Y[i]]==0.0 and lngs[Y[i]]==0.0) or (lats[Y[i]]<24.0 or lats[Y[i]]>50.0) or (lngs[Y[i]]<-125.0 or lngs[Y[i]]>-50.0):\n",
    "        continue\n",
    "    if X[i]==Y[i]:\n",
    "        continue\n",
    "    plt.plot([lngs[X[i]],lngs[Y[i]]],[lats[X[i]],lats[Y[i]]],'k-',alpha=0.25,linewidth=0.2)\n",
    "    \n",
    "toremove=[]\n",
    "for i in range(len(zips)):\n",
    "    if (lats[i]==0.0 and lngs[i]==0.0) or (lats[i]<24.0 or lats[i]>50.0) or (lngs[i]<-125.0 or lngs[i]>-50.0):\n",
    "        toremove.append(i)\n",
    "\n",
    "tr=[]\n",
    "for i in range(len(X)):\n",
    "    if X[i] in toremove or Y[i] in toremove or X[i]==Y[i]:\n",
    "        tr.append(i)\n",
    "\n",
    "toremove.reverse()\n",
    "tr.reverse()\n",
    "\n",
    "for x in toremove:\n",
    "    del lats[x]\n",
    "    del lngs[x]\n",
    "    \n",
    "for x in tr:\n",
    "    del X[x]\n",
    "    del Y[x]\n",
    "\n",
    "plt.plot(lngs,lats,'r.')\n",
    "plt.show()"
   ]
  },
  {
   "cell_type": "markdown",
   "metadata": {},
   "source": [
    "## Euclidian Distance"
   ]
  },
  {
   "cell_type": "code",
   "execution_count": null,
   "metadata": {},
   "outputs": [],
   "source": [
    "zips=df['ZIP'].tolist()\n",
    "zips=[zips[i].split(\"-\")[0] for i in range(len(zips))]\n",
    "df2=pd.read_csv('zip2latlong.csv')\n",
    "z=df2['ZIP']\n",
    "l1=df2['LAT']\n",
    "l2=df2['LNG']\n",
    "d={format(z[i],'05'):{'lat':l1[i],'lng':l2[i]} for i in range(len(z))}\n",
    "lats=[d[zips[i]]['lat'] if zips[i] in d else 0.0 for i in range(len(zips))]\n",
    "lngs=[d[zips[i]]['lng'] if zips[i] in d else 0.0 for i in range(len(zips))]\n",
    "\n",
    "nbrs10dke=NearestNeighbors(n_neighbors=10,algorithm='kd_tree').fit(df_pca)\n",
    "X,Y=nbrs10dke.kneighbors_graph(df_pca).nonzero()\n",
    "X=X.tolist()\n",
    "Y=Y.tolist()\n",
    "plt.figure(figsize=(40,20))\n",
    "\n",
    "for i in range(len(X)):\n",
    "    if (lats[X[i]]==0.0 and lngs[X[i]]==0.0) or (lats[X[i]]<24.0 or lats[X[i]]>50.0) or (lngs[X[i]]<-125.0 or lngs[X[i]]>-50.0):\n",
    "        continue\n",
    "    if (lats[Y[i]]==0.0 and lngs[Y[i]]==0.0) or (lats[Y[i]]<24.0 or lats[Y[i]]>50.0) or (lngs[Y[i]]<-125.0 or lngs[Y[i]]>-50.0):\n",
    "        continue\n",
    "    if X[i]==Y[i]:\n",
    "        continue\n",
    "    plt.plot([lngs[X[i]],lngs[Y[i]]],[lats[X[i]],lats[Y[i]]],'k-',alpha=0.25,linewidth=0.2)\n",
    "    \n",
    "toremove=[]\n",
    "for i in range(len(zips)):\n",
    "    if (lats[i]==0.0 and lngs[i]==0.0) or (lats[i]<24.0 or lats[i]>50.0) or (lngs[i]<-125.0 or lngs[i]>-50.0):\n",
    "        toremove.append(i)\n",
    "\n",
    "tr=[]\n",
    "for i in range(len(X)):\n",
    "    if X[i] in toremove or Y[i] in toremove or X[i]==Y[i]:\n",
    "        tr.append(i)\n",
    "\n",
    "toremove.reverse()\n",
    "tr.reverse()\n",
    "\n",
    "for x in toremove:\n",
    "    del lats[x]\n",
    "    del lngs[x]\n",
    "    \n",
    "for x in tr:\n",
    "    del X[x]\n",
    "    del Y[x]\n",
    "\n",
    "plt.plot(lngs,lats,'r.')\n",
    "plt.show()"
   ]
  },
  {
   "cell_type": "markdown",
   "metadata": {},
   "source": [
    "## DBSCAN"
   ]
  },
  {
   "cell_type": "code",
   "execution_count": null,
   "metadata": {},
   "outputs": [],
   "source": [
    "import matplotlib.colors as clrs\n",
    "from sklearn.cluster import DBSCAN\n",
    "from collections import Counter\n",
    "\n",
    "zips=df['ZIP'].tolist()\n",
    "zips=[zips[i].split(\"-\")[0] for i in range(len(zips))]\n",
    "df2=pd.read_csv('zip2latlong.csv')\n",
    "z=df2['ZIP']\n",
    "l1=df2['LAT']\n",
    "l2=df2['LNG']\n",
    "d={format(z[i],'05'):{'lat':l1[i],'lng':l2[i]} for i in range(len(z))}\n",
    "lats=[d[zips[i]]['lat'] if zips[i] in d else 0.0 for i in range(len(zips))]\n",
    "lngs=[d[zips[i]]['lng'] if zips[i] in d else 0.0 for i in range(len(zips))]\n",
    "\n",
    "plt.figure(figsize=(40,20))\n",
    "db = DBSCAN(eps=4.0).fit(df_pca)\n",
    "labels = db.labels_.tolist()\n",
    "d=dict(Counter(labels))\n",
    "print(d)\n",
    "s=[(d[1]/d[x])**1.5 if (d[-1]/d[x])!=1.0 else 100 for x in labels]\n",
    "toremove=[]\n",
    "for i in range(len(zips)):\n",
    "    if (lats[i]==0.0 and lngs[i]==0.0) or (lats[i]<24.0 or lats[i]>50.0) or (lngs[i]<-125.0 or lngs[i]>-50.0):\n",
    "        toremove.append(i)\n",
    "\n",
    "toremove.reverse()\n",
    "\n",
    "for x in toremove:\n",
    "    del lats[x]\n",
    "    del lngs[x]\n",
    "    del labels[x]\n",
    "\n",
    "plt.scatter(lngs,lats,c=labels,s=s,marker='o',cmap=plt.get_cmap('tab20'))\n",
    "plt.show()"
   ]
  }
 ],
 "metadata": {
  "kernelspec": {
   "display_name": "Python 3",
   "language": "python",
   "name": "python3"
  },
  "language_info": {
   "codemirror_mode": {
    "name": "ipython",
    "version": 3
   },
   "file_extension": ".py",
   "mimetype": "text/x-python",
   "name": "python",
   "nbconvert_exporter": "python",
   "pygments_lexer": "ipython3",
   "version": "3.6.5"
  }
 },
 "nbformat": 4,
 "nbformat_minor": 2
}
