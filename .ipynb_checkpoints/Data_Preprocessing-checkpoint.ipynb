{
 "cells": [
  {
   "cell_type": "code",
   "execution_count": 5,
   "metadata": {
    "collapsed": true
   },
   "outputs": [],
   "source": [
    "import pandas as pd\n",
    "import matplotlib.pyplot as plt\n",
    "import numpy as np\n",
    "import pickle"
   ]
  },
  {
   "cell_type": "code",
   "execution_count": 6,
   "metadata": {},
   "outputs": [
    {
     "ename": "FileNotFoundError",
     "evalue": "File b'data/MERGED2015_16_PP.csv' does not exist",
     "output_type": "error",
     "traceback": [
      "\u001b[0;31m---------------------------------------------------------------------------\u001b[0m",
      "\u001b[0;31mFileNotFoundError\u001b[0m                         Traceback (most recent call last)",
      "\u001b[0;32m<ipython-input-6-437cada25445>\u001b[0m in \u001b[0;36m<module>\u001b[0;34m()\u001b[0m\n\u001b[1;32m      1\u001b[0m \u001b[0mpath\u001b[0m \u001b[0;34m=\u001b[0m \u001b[0;34m\"data/MERGED2015_16_PP.csv\"\u001b[0m\u001b[0;34m\u001b[0m\u001b[0m\n\u001b[0;32m----> 2\u001b[0;31m \u001b[0mdata\u001b[0m \u001b[0;34m=\u001b[0m \u001b[0mpd\u001b[0m\u001b[0;34m.\u001b[0m\u001b[0mread_csv\u001b[0m\u001b[0;34m(\u001b[0m\u001b[0mpath\u001b[0m\u001b[0;34m,\u001b[0m \u001b[0mlow_memory\u001b[0m\u001b[0;34m=\u001b[0m\u001b[0;32mFalse\u001b[0m\u001b[0;34m)\u001b[0m\u001b[0;34m\u001b[0m\u001b[0m\n\u001b[0m",
      "\u001b[0;32m~/anaconda3/lib/python3.6/site-packages/pandas/io/parsers.py\u001b[0m in \u001b[0;36mparser_f\u001b[0;34m(filepath_or_buffer, sep, delimiter, header, names, index_col, usecols, squeeze, prefix, mangle_dupe_cols, dtype, engine, converters, true_values, false_values, skipinitialspace, skiprows, nrows, na_values, keep_default_na, na_filter, verbose, skip_blank_lines, parse_dates, infer_datetime_format, keep_date_col, date_parser, dayfirst, iterator, chunksize, compression, thousands, decimal, lineterminator, quotechar, quoting, escapechar, comment, encoding, dialect, tupleize_cols, error_bad_lines, warn_bad_lines, skipfooter, skip_footer, doublequote, delim_whitespace, as_recarray, compact_ints, use_unsigned, low_memory, buffer_lines, memory_map, float_precision)\u001b[0m\n\u001b[1;32m    653\u001b[0m                     skip_blank_lines=skip_blank_lines)\n\u001b[1;32m    654\u001b[0m \u001b[0;34m\u001b[0m\u001b[0m\n\u001b[0;32m--> 655\u001b[0;31m         \u001b[0;32mreturn\u001b[0m \u001b[0m_read\u001b[0m\u001b[0;34m(\u001b[0m\u001b[0mfilepath_or_buffer\u001b[0m\u001b[0;34m,\u001b[0m \u001b[0mkwds\u001b[0m\u001b[0;34m)\u001b[0m\u001b[0;34m\u001b[0m\u001b[0m\n\u001b[0m\u001b[1;32m    656\u001b[0m \u001b[0;34m\u001b[0m\u001b[0m\n\u001b[1;32m    657\u001b[0m     \u001b[0mparser_f\u001b[0m\u001b[0;34m.\u001b[0m\u001b[0m__name__\u001b[0m \u001b[0;34m=\u001b[0m \u001b[0mname\u001b[0m\u001b[0;34m\u001b[0m\u001b[0m\n",
      "\u001b[0;32m~/anaconda3/lib/python3.6/site-packages/pandas/io/parsers.py\u001b[0m in \u001b[0;36m_read\u001b[0;34m(filepath_or_buffer, kwds)\u001b[0m\n\u001b[1;32m    403\u001b[0m \u001b[0;34m\u001b[0m\u001b[0m\n\u001b[1;32m    404\u001b[0m     \u001b[0;31m# Create the parser.\u001b[0m\u001b[0;34m\u001b[0m\u001b[0;34m\u001b[0m\u001b[0m\n\u001b[0;32m--> 405\u001b[0;31m     \u001b[0mparser\u001b[0m \u001b[0;34m=\u001b[0m \u001b[0mTextFileReader\u001b[0m\u001b[0;34m(\u001b[0m\u001b[0mfilepath_or_buffer\u001b[0m\u001b[0;34m,\u001b[0m \u001b[0;34m**\u001b[0m\u001b[0mkwds\u001b[0m\u001b[0;34m)\u001b[0m\u001b[0;34m\u001b[0m\u001b[0m\n\u001b[0m\u001b[1;32m    406\u001b[0m \u001b[0;34m\u001b[0m\u001b[0m\n\u001b[1;32m    407\u001b[0m     \u001b[0;32mif\u001b[0m \u001b[0mchunksize\u001b[0m \u001b[0;32mor\u001b[0m \u001b[0miterator\u001b[0m\u001b[0;34m:\u001b[0m\u001b[0;34m\u001b[0m\u001b[0m\n",
      "\u001b[0;32m~/anaconda3/lib/python3.6/site-packages/pandas/io/parsers.py\u001b[0m in \u001b[0;36m__init__\u001b[0;34m(self, f, engine, **kwds)\u001b[0m\n\u001b[1;32m    762\u001b[0m             \u001b[0mself\u001b[0m\u001b[0;34m.\u001b[0m\u001b[0moptions\u001b[0m\u001b[0;34m[\u001b[0m\u001b[0;34m'has_index_names'\u001b[0m\u001b[0;34m]\u001b[0m \u001b[0;34m=\u001b[0m \u001b[0mkwds\u001b[0m\u001b[0;34m[\u001b[0m\u001b[0;34m'has_index_names'\u001b[0m\u001b[0;34m]\u001b[0m\u001b[0;34m\u001b[0m\u001b[0m\n\u001b[1;32m    763\u001b[0m \u001b[0;34m\u001b[0m\u001b[0m\n\u001b[0;32m--> 764\u001b[0;31m         \u001b[0mself\u001b[0m\u001b[0;34m.\u001b[0m\u001b[0m_make_engine\u001b[0m\u001b[0;34m(\u001b[0m\u001b[0mself\u001b[0m\u001b[0;34m.\u001b[0m\u001b[0mengine\u001b[0m\u001b[0;34m)\u001b[0m\u001b[0;34m\u001b[0m\u001b[0m\n\u001b[0m\u001b[1;32m    765\u001b[0m \u001b[0;34m\u001b[0m\u001b[0m\n\u001b[1;32m    766\u001b[0m     \u001b[0;32mdef\u001b[0m \u001b[0mclose\u001b[0m\u001b[0;34m(\u001b[0m\u001b[0mself\u001b[0m\u001b[0;34m)\u001b[0m\u001b[0;34m:\u001b[0m\u001b[0;34m\u001b[0m\u001b[0m\n",
      "\u001b[0;32m~/anaconda3/lib/python3.6/site-packages/pandas/io/parsers.py\u001b[0m in \u001b[0;36m_make_engine\u001b[0;34m(self, engine)\u001b[0m\n\u001b[1;32m    983\u001b[0m     \u001b[0;32mdef\u001b[0m \u001b[0m_make_engine\u001b[0m\u001b[0;34m(\u001b[0m\u001b[0mself\u001b[0m\u001b[0;34m,\u001b[0m \u001b[0mengine\u001b[0m\u001b[0;34m=\u001b[0m\u001b[0;34m'c'\u001b[0m\u001b[0;34m)\u001b[0m\u001b[0;34m:\u001b[0m\u001b[0;34m\u001b[0m\u001b[0m\n\u001b[1;32m    984\u001b[0m         \u001b[0;32mif\u001b[0m \u001b[0mengine\u001b[0m \u001b[0;34m==\u001b[0m \u001b[0;34m'c'\u001b[0m\u001b[0;34m:\u001b[0m\u001b[0;34m\u001b[0m\u001b[0m\n\u001b[0;32m--> 985\u001b[0;31m             \u001b[0mself\u001b[0m\u001b[0;34m.\u001b[0m\u001b[0m_engine\u001b[0m \u001b[0;34m=\u001b[0m \u001b[0mCParserWrapper\u001b[0m\u001b[0;34m(\u001b[0m\u001b[0mself\u001b[0m\u001b[0;34m.\u001b[0m\u001b[0mf\u001b[0m\u001b[0;34m,\u001b[0m \u001b[0;34m**\u001b[0m\u001b[0mself\u001b[0m\u001b[0;34m.\u001b[0m\u001b[0moptions\u001b[0m\u001b[0;34m)\u001b[0m\u001b[0;34m\u001b[0m\u001b[0m\n\u001b[0m\u001b[1;32m    986\u001b[0m         \u001b[0;32melse\u001b[0m\u001b[0;34m:\u001b[0m\u001b[0;34m\u001b[0m\u001b[0m\n\u001b[1;32m    987\u001b[0m             \u001b[0;32mif\u001b[0m \u001b[0mengine\u001b[0m \u001b[0;34m==\u001b[0m \u001b[0;34m'python'\u001b[0m\u001b[0;34m:\u001b[0m\u001b[0;34m\u001b[0m\u001b[0m\n",
      "\u001b[0;32m~/anaconda3/lib/python3.6/site-packages/pandas/io/parsers.py\u001b[0m in \u001b[0;36m__init__\u001b[0;34m(self, src, **kwds)\u001b[0m\n\u001b[1;32m   1603\u001b[0m         \u001b[0mkwds\u001b[0m\u001b[0;34m[\u001b[0m\u001b[0;34m'allow_leading_cols'\u001b[0m\u001b[0;34m]\u001b[0m \u001b[0;34m=\u001b[0m \u001b[0mself\u001b[0m\u001b[0;34m.\u001b[0m\u001b[0mindex_col\u001b[0m \u001b[0;32mis\u001b[0m \u001b[0;32mnot\u001b[0m \u001b[0;32mFalse\u001b[0m\u001b[0;34m\u001b[0m\u001b[0m\n\u001b[1;32m   1604\u001b[0m \u001b[0;34m\u001b[0m\u001b[0m\n\u001b[0;32m-> 1605\u001b[0;31m         \u001b[0mself\u001b[0m\u001b[0;34m.\u001b[0m\u001b[0m_reader\u001b[0m \u001b[0;34m=\u001b[0m \u001b[0mparsers\u001b[0m\u001b[0;34m.\u001b[0m\u001b[0mTextReader\u001b[0m\u001b[0;34m(\u001b[0m\u001b[0msrc\u001b[0m\u001b[0;34m,\u001b[0m \u001b[0;34m**\u001b[0m\u001b[0mkwds\u001b[0m\u001b[0;34m)\u001b[0m\u001b[0;34m\u001b[0m\u001b[0m\n\u001b[0m\u001b[1;32m   1606\u001b[0m \u001b[0;34m\u001b[0m\u001b[0m\n\u001b[1;32m   1607\u001b[0m         \u001b[0;31m# XXX\u001b[0m\u001b[0;34m\u001b[0m\u001b[0;34m\u001b[0m\u001b[0m\n",
      "\u001b[0;32mpandas/_libs/parsers.pyx\u001b[0m in \u001b[0;36mpandas._libs.parsers.TextReader.__cinit__ (pandas/_libs/parsers.c:4209)\u001b[0;34m()\u001b[0m\n",
      "\u001b[0;32mpandas/_libs/parsers.pyx\u001b[0m in \u001b[0;36mpandas._libs.parsers.TextReader._setup_parser_source (pandas/_libs/parsers.c:8873)\u001b[0;34m()\u001b[0m\n",
      "\u001b[0;31mFileNotFoundError\u001b[0m: File b'data/MERGED2015_16_PP.csv' does not exist"
     ]
    }
   ],
   "source": [
    "path = \"data/MERGED2015_16_PP.csv\"\n",
    "data = pd.read_csv(path, low_memory=False)"
   ]
  },
  {
   "cell_type": "markdown",
   "metadata": {},
   "source": [
    "# Data Preprocessing"
   ]
  },
  {
   "cell_type": "markdown",
   "metadata": {},
   "source": [
    "### Listing out columns of importance"
   ]
  },
  {
   "cell_type": "code",
   "execution_count": 31,
   "metadata": {
    "collapsed": true
   },
   "outputs": [],
   "source": [
    "cols = [\"OPEID\", \"UNITID\", \"INSTNM\", \"CITY\", \"STABBR\", \"ZIP\", \"CURROPER\", \"MAIN\", \"PREDDEG\", \"HIGHDEG\", \n",
    "        \"CONTROL\", \"RELAFFIL\", \"DISTANCEONLY\", \"ADM_RATE\", \"SAT_AVG\", \"ACTCMMID\", \"UGDS\", \"UGDS_WHITE\", \"UGDS_BLACK\", \"UGDS_HISP\", \n",
    "        \"UGDS_ASIAN\", \"UGDS_AIAN\", \"UGDS_NHPI\", \"UGDS_2MOR\", \"UGDS_NRA\", \"UGDS_UNKN\", \n",
    "        \"HBCU\", \"PBI\", \"ANNHI\", \"TRIBAL\", \"HSI\", \"NANTI\", \"MENONLY\", \"WOMENONLY\", \"PPTUG_EF\", \n",
    "        \"UG25ABV\", \"INC_PCT_LO\", \"INC_PCT_M1\", \"INC_PCT_M2\", \"INC_PCT_H1\", \"INC_PCT_H2\", \n",
    "        \"PAR_ED_PCT_1STGEN\", \"NPT4_PUB\", \"NPT4_PRIV\", \"COSTT4_A\", \"TUITIONFEE_IN\", \"TUITIONFEE_OUT\", \n",
    "        \"NPT41_PUB\", \"NPT42_PUB\", \"NPT43_PUB\", \"NPT44_PUB\", \"NPT45_PUB\", \"NPT41_PRIV\", \"NPT42_PRIV\", \n",
    "        \"NPT43_PRIV\", \"NPT44_PRIV\", \"NPT45_PRIV\", \"PCTFLOAN\", \"PCTPELL\", \"GRAD_DEBT_MDN\", \n",
    "        \"WDRAW_DEBT_MDN\", \"GRAD_DEBT_MDN10YR\", \"CDR3\", \"RPY_3YR_RT\", \n",
    "        \"RPY_5YR_RT\", \"RPY_7YR_RT\", \"C150_4\", \"D150_4\", \"CIP01BACHL\", \"CIP03BACHL\", \"CIP04BACHL\", \"CIP05BACHL\", \"CIP09BACHL\", \n",
    "        \"CIP10BACHL\", \"CIP11BACHL\", \"CIP12BACHL\", \"CIP13BACHL\", \"CIP14BACHL\", \"CIP15BACHL\", \n",
    "        \"CIP16BACHL\", \"CIP19BACHL\", \"CIP22BACHL\", \"CIP23BACHL\", \"CIP24BACHL\", \"CIP25BACHL\", \n",
    "        \"CIP26BACHL\", \"CIP27BACHL\", \"CIP29BACHL\", \"CIP30BACHL\", \"CIP31BACHL\", \"CIP38BACHL\", \n",
    "        \"CIP39BACHL\", \"CIP40BACHL\", \"CIP41BACHL\", \"CIP42BACHL\", \"CIP43BACHL\", \"CIP44BACHL\", \n",
    "        \"CIP45BACHL\", \"CIP46BACHL\", \"CIP47BACHL\", \"CIP48BACHL\", \"CIP49BACHL\", \"CIP50BACHL\", \n",
    "        \"CIP51BACHL\", \"CIP52BACHL\", \"CIP54BACHL\", \"PCIP01\", \"PCIP03\", \"PCIP04\", \"PCIP05\", \n",
    "        \"PCIP09\", \"PCIP10\", \"PCIP11\", \"PCIP12\", \"PCIP13\", \"PCIP14\", \"PCIP15\", \"PCIP16\", \n",
    "        \"PCIP19\", \"PCIP22\", \"PCIP23\", \"PCIP24\", \"PCIP25\", \"PCIP26\", \"PCIP27\", \"PCIP29\", \n",
    "        \"PCIP30\", \"PCIP31\", \"PCIP38\", \"PCIP39\", \"PCIP40\", \"PCIP41\", \"PCIP42\", \"PCIP43\", \n",
    "        \"PCIP44\", \"PCIP45\", \"PCIP46\", \"PCIP47\", \"PCIP48\", \"PCIP49\", \"PCIP50\", \"PCIP51\", \n",
    "        \"PCIP52\", \"PCIP54\"]"
   ]
  },
  {
   "cell_type": "markdown",
   "metadata": {},
   "source": [
    "### Filtering data for just Undergrad programs, correcting data types of columns and getting rid of unwanted literals"
   ]
  },
  {
   "cell_type": "code",
   "execution_count": 32,
   "metadata": {
    "collapsed": true
   },
   "outputs": [],
   "source": [
    "df = data[cols]\n",
    "df = df.loc[(df['PREDDEG'] == 3) & (df['CURROPER'] == 1)]\n",
    "df.drop([\"PREDDEG\", \"CURROPER\"], axis=1, inplace=True)\n",
    "df = df.replace('PrivacySuppressed', df.replace(['PrivacySuppressed'], [None]))\n",
    "wrong_data_type_cols = [\"INC_PCT_LO\", \"INC_PCT_M1\", \"INC_PCT_M2\", \"INC_PCT_H1\", \"INC_PCT_H2\", \n",
    "                        \"PAR_ED_PCT_1STGEN\", \"GRAD_DEBT_MDN\", \"WDRAW_DEBT_MDN\", \n",
    "                        \"GRAD_DEBT_MDN10YR\", \"RPY_3YR_RT\", \"RPY_5YR_RT\", \"RPY_7YR_RT\"]\n",
    "df[wrong_data_type_cols] = df[wrong_data_type_cols].apply(pd.to_numeric)"
   ]
  },
  {
   "cell_type": "markdown",
   "metadata": {},
   "source": [
    "## Filling NaN values"
   ]
  },
  {
   "cell_type": "code",
   "execution_count": 33,
   "metadata": {
    "collapsed": true
   },
   "outputs": [],
   "source": [
    "def fill_nan(col):\n",
    "    if df[col].dtype != 'O':\n",
    "        df[col].fillna(df[col].median(), inplace=True)"
   ]
  },
  {
   "cell_type": "markdown",
   "metadata": {},
   "source": [
    "### Filling in the SAT_AVGs from merged Scorecard.csv"
   ]
  },
  {
   "cell_type": "code",
   "execution_count": 34,
   "metadata": {
    "collapsed": true
   },
   "outputs": [],
   "source": [
    "sat_scores = pickle.load(open(\"final_sat.p\", \"rb\"))\n",
    "final_sat = {}\n",
    "for key in sat_scores:\n",
    "    if not any(c.isalpha() for c in key):\n",
    "        final_sat[int(key)] = sat_scores[key]"
   ]
  },
  {
   "cell_type": "code",
   "execution_count": 35,
   "metadata": {
    "collapsed": true
   },
   "outputs": [],
   "source": [
    "for opeid in final_sat:\n",
    "    df.loc[(df['OPEID'] == opeid), 'SAT_AVG'] = final_sat[opeid]"
   ]
  },
  {
   "cell_type": "markdown",
   "metadata": {},
   "source": [
    "### Merging the financial data columns for Public and Private Institutions and updating column names"
   ]
  },
  {
   "cell_type": "code",
   "execution_count": 36,
   "metadata": {
    "collapsed": true
   },
   "outputs": [],
   "source": [
    "cols_pub = [\"NPT4_PUB\", \"NPT41_PUB\", \"NPT42_PUB\", \"NPT43_PUB\", \"NPT44_PUB\", \"NPT45_PUB\"]\n",
    "cols_priv = [\"NPT4_PRIV\", \"NPT41_PRIV\", \"NPT42_PRIV\", \"NPT43_PRIV\", \"NPT44_PRIV\", \"NPT45_PRIV\"]\n",
    "for i in range(len(cols_pub)):\n",
    "    df[cols_pub[i]] = df[cols_pub[i]].fillna(df[cols_priv[i]])\n",
    "    \n",
    "df.rename(columns={\"NPT4_PUB\" : \"NPT4\", \"NPT41_PUB\" : \"NPT41\", \"NPT42_PUB\" : \"NPT42\", \n",
    "                   \"NPT43_PUB\" : \"NPT43\", \"NPT44_PUB\" : \"NPT44\", \"NPT45_PUB\" : \"NPT45\"}, \n",
    "          inplace=True)\n",
    "df.drop(cols_priv, axis=1, inplace=True)"
   ]
  },
  {
   "cell_type": "markdown",
   "metadata": {},
   "source": [
    "### Filling NaN values for all financial data columns with mean values based on CONTROL type"
   ]
  },
  {
   "cell_type": "code",
   "execution_count": 37,
   "metadata": {
    "collapsed": true
   },
   "outputs": [],
   "source": [
    "for i in range(1,4):\n",
    "    for col in ['COSTT4_A', 'TUITIONFEE_IN', 'TUITIONFEE_OUT', 'NPT4', 'NPT41', 'NPT42', 'NPT43', 'NPT44', 'NPT45']:\n",
    "        df.loc[(df['CONTROL'] == i), col] = df.loc[(df['CONTROL'] == i)][col].fillna(int(df.loc[(df['CONTROL'] == i)][col].mean()))"
   ]
  },
  {
   "cell_type": "markdown",
   "metadata": {},
   "source": [
    "### Filling the remaining NaN values with median values"
   ]
  },
  {
   "cell_type": "code",
   "execution_count": 38,
   "metadata": {
    "collapsed": true
   },
   "outputs": [],
   "source": [
    "#For religious affiliation, if value not present then marking it as \"Not Reported (-1)\"\n",
    "df['RELAFFIL'] = df['RELAFFIL'].fillna(-1)\n",
    "\n",
    "for col in df.columns:\n",
    "    fill_nan(col)"
   ]
  },
  {
   "cell_type": "markdown",
   "metadata": {},
   "source": [
    "### Cleaning CIP columns"
   ]
  },
  {
   "cell_type": "code",
   "execution_count": 39,
   "metadata": {
    "collapsed": true
   },
   "outputs": [],
   "source": [
    "cip_columns = [\"CIP01BACHL\", \"CIP03BACHL\", \"CIP04BACHL\", \"CIP05BACHL\", \"CIP09BACHL\", \n",
    "        \"CIP10BACHL\", \"CIP11BACHL\", \"CIP12BACHL\", \"CIP13BACHL\", \"CIP14BACHL\", \"CIP15BACHL\", \n",
    "        \"CIP16BACHL\", \"CIP19BACHL\", \"CIP22BACHL\", \"CIP23BACHL\", \"CIP24BACHL\", \"CIP25BACHL\", \n",
    "        \"CIP26BACHL\", \"CIP27BACHL\", \"CIP29BACHL\", \"CIP30BACHL\", \"CIP31BACHL\", \"CIP38BACHL\", \n",
    "        \"CIP39BACHL\", \"CIP40BACHL\", \"CIP41BACHL\", \"CIP42BACHL\", \"CIP43BACHL\", \"CIP44BACHL\", \n",
    "        \"CIP45BACHL\", \"CIP46BACHL\", \"CIP47BACHL\", \"CIP48BACHL\", \"CIP49BACHL\", \"CIP50BACHL\", \n",
    "        \"CIP51BACHL\", \"CIP52BACHL\", \"CIP54BACHL\"]"
   ]
  },
  {
   "cell_type": "code",
   "execution_count": 41,
   "metadata": {
    "collapsed": true
   },
   "outputs": [],
   "source": [
    "for col in cip_columns:\n",
    "    df[col] = df[col].clip_upper(1)"
   ]
  },
  {
   "cell_type": "markdown",
   "metadata": {},
   "source": [
    "### Saving the cleaned data to a new file"
   ]
  },
  {
   "cell_type": "code",
   "execution_count": 31,
   "metadata": {
    "collapsed": true
   },
   "outputs": [],
   "source": [
    "df.to_csv(\"cleaned_data.csv\", encoding='utf-8', index=False)"
   ]
  },
  {
   "cell_type": "markdown",
   "metadata": {},
   "source": [
    "### Function to fetch Temperature data from temperatures.json and add it to CSV"
   ]
  },
  {
   "cell_type": "code",
   "execution_count": 17,
   "metadata": {},
   "outputs": [
    {
     "name": "stdout",
     "output_type": "stream",
     "text": [
      "         OPEID  UNITID                                             INSTNM  \\\n",
      "0       100200  100654                           Alabama A & M University   \n",
      "1       105200  100663                University of Alabama at Birmingham   \n",
      "2      2503400  100690                                 Amridge University   \n",
      "3       105500  100706                University of Alabama in Huntsville   \n",
      "4       100500  100724                           Alabama State University   \n",
      "5       105100  100751                          The University of Alabama   \n",
      "6       100800  100812                            Athens State University   \n",
      "7       831000  100830                    Auburn University at Montgomery   \n",
      "8       100900  100858                                  Auburn University   \n",
      "9       101200  100937                        Birmingham Southern College   \n",
      "10     1303906  101116                        South University-Montgomery   \n",
      "11      100300  101189                                Faulkner University   \n",
      "12      101900  101435                                 Huntingdon College   \n",
      "13     2199700  101453                      Heritage Christian University   \n",
      "14      102000  101480                      Jacksonville State University   \n",
      "15      102300  101541                                     Judson College   \n",
      "16      102400  101587                         University of West Alabama   \n",
      "17      102800  101675                                      Miles College   \n",
      "18      102900  101693                               University of Mobile   \n",
      "19      100400  101709                           University of Montevallo   \n",
      "20      101600  101879                        University of North Alabama   \n",
      "21      103300  101912                                 Oakwood University   \n",
      "22      103600  102049                                 Samford University   \n",
      "23     4067300  102058                                   Selma University   \n",
      "24      105700  102094                        University of South Alabama   \n",
      "25      104100  102234                                Spring Hill College   \n",
      "26      104400  102270                                   Stillman College   \n",
      "27      104600  102298                                  Talladega College   \n",
      "28      104700  102368                                    Troy University   \n",
      "29      105000  102377                                Tuskegee University   \n",
      "...        ...     ...                                                ...   \n",
      "2029  32098864  484686                    University of Phoenix-Louisiana   \n",
      "2030  32098879  484695                     University of Phoenix-Michigan   \n",
      "2031  32098887  484701                     University of Phoenix-Missouri   \n",
      "2032  82098816  484710                       University of Phoenix-Nevada   \n",
      "2033  42098827  484729               University of Phoenix-North Carolina   \n",
      "2034   2098896  484738                     University of Phoenix-Oklahoma   \n",
      "2035  42098867  484747                    University of Phoenix-Tennessee   \n",
      "2036  42098871  484756                        University of Phoenix-Texas   \n",
      "2037  82098821  484765                     University of Phoenix-Virginia   \n",
      "2038  42098854  484783                 University of Phoenix-Pennsylvania   \n",
      "2039   4230100  484871                     Rabbinical College Ohr Yisroel   \n",
      "2040   3698308  485272                        West Coast University-Miami   \n",
      "2041   4244000  485546             California Intercontinental University   \n",
      "2042   4227200  485999                     Bet Medrash Gadol Ateret Torah   \n",
      "2043   4207400  486017                         Yeshiva Gedola Ohr Yisrael   \n",
      "2044   4231500  486026                             Yeshiva Sholom Shachna   \n",
      "2045   4210400  486196                         Beth Medrash Meor Yitzchok   \n",
      "2046   4227800  486284                          Bethany Global University   \n",
      "2047   4237600  486488                       California Jazz Conservatory   \n",
      "2048    157700  486840                          Kennesaw State University   \n",
      "2049    351100  486901                                   Milligan College   \n",
      "2050    638515  486938              Chamberlain College of Nursing-Nevada   \n",
      "2051    638516  486947            Chamberlain College of Nursing-Michigan   \n",
      "2052    638517  486956          Chamberlain College of Nursing-New Jersey   \n",
      "2053    746901  486965       Hussian College-Relativity Campus California   \n",
      "2054    353006  487010  The University of Tennessee-Health Science Center   \n",
      "2055    108302  487296                        University of Arizona-South   \n",
      "2056   3115002  487375                          Arizona College-Las Vegas   \n",
      "2057    204300  487524                                  Husson University   \n",
      "2058    378300  487603  Northwest University-College of Adult and Prof...   \n",
      "\n",
      "                  CITY STABBR         ZIP  MAIN  HIGHDEG  CONTROL  RELAFFIL  \\\n",
      "0               Normal     AL       35762     1        4        1      -1.0   \n",
      "1           Birmingham     AL  35294-0110     1        4        1      -1.0   \n",
      "2           Montgomery     AL  36117-3553     1        4        2      74.0   \n",
      "3           Huntsville     AL       35899     1        4        1      -1.0   \n",
      "4           Montgomery     AL  36104-0271     1        4        1      -1.0   \n",
      "5           Tuscaloosa     AL  35487-0166     1        4        1      -1.0   \n",
      "6               Athens     AL       35611     1        3        1      -1.0   \n",
      "7           Montgomery     AL  36117-3596     1        4        1      -1.0   \n",
      "8               Auburn     AL       36849     1        4        1      -1.0   \n",
      "9           Birmingham     AL       35254     1        3        2      71.0   \n",
      "10          Montgomery     AL       36116     0        4        3      -1.0   \n",
      "11          Montgomery     AL  36109-3390     1        4        2      74.0   \n",
      "12          Montgomery     AL  36106-2148     1        3        2      71.0   \n",
      "13            Florence     AL  35630-9977     1        4        2      74.0   \n",
      "14        Jacksonville     AL       36265     1        4        1      -1.0   \n",
      "15              Marion     AL       36756     1        3        2      54.0   \n",
      "16          Livingston     AL       35470     1        4        1      -1.0   \n",
      "17           Fairfield     AL  35064-2621     1        3        2      55.0   \n",
      "18              Mobile     AL  36613-2842     1        4        2      75.0   \n",
      "19          Montevallo     AL  35115-6000     1        4        1      -1.0   \n",
      "20            Florence     AL  35632-0001     1        4        1      -1.0   \n",
      "21          Huntsville     AL       35896     1        4        2      95.0   \n",
      "22          Birmingham     AL  35229-2240     1        4        2      54.0   \n",
      "23               Selma     AL       36701     1        4        2      54.0   \n",
      "24              Mobile     AL  36688-0002     1        4        1      -1.0   \n",
      "25              Mobile     AL  36608-1791     1        4        2      30.0   \n",
      "26          Tuscaloosa     AL       35401     1        3        2      66.0   \n",
      "27           Talladega     AL       35160     1        3        2      76.0   \n",
      "28                Troy     AL  36082-0001     1        4        1      -1.0   \n",
      "29            Tuskegee     AL  36088-1920     1        4        2      -1.0   \n",
      "...                ...    ...         ...   ...      ...      ...       ...   \n",
      "2029       Baton Rouge     LA       70808     0        4        3      -1.0   \n",
      "2030        Southfield     MI       48076     0        4        3      -1.0   \n",
      "2031       Saint Louis     MO       63043     0        4        3      -1.0   \n",
      "2032         Las Vegas     NV       89135     0        4        3      -1.0   \n",
      "2033         Charlotte     NC       28273     0        4        3      -1.0   \n",
      "2034     Oklahoma City     OK       73116     0        4        3      -1.0   \n",
      "2035         Nashville     TN       37214     0        4        3      -1.0   \n",
      "2036           Houston     TX       77079     0        4        3      -1.0   \n",
      "2037        Glen Allen     VA       23060     0        4        3      -1.0   \n",
      "2038      Philadelphia     PA       19103     0        4        3      -1.0   \n",
      "2039          Brooklyn     NY       11236     1        3        2      80.0   \n",
      "2040             Doral     FL  33178-2431     0        0        3      -1.0   \n",
      "2041            Irvine     CA  92614-5636     1        4        3      -1.0   \n",
      "2042          Brooklyn     NY       11223     1        3        2      -1.0   \n",
      "2043          Brooklyn     NY       11229     1        3        2      -1.0   \n",
      "2044          Brooklym     NY       11230     1        3        2      -1.0   \n",
      "2045            Monsey     NY  10952-4023     1        3        2      -1.0   \n",
      "2046       Bloomington     MN  55438-2849     1        4        2      42.0   \n",
      "2047          Berkeley     CA  94704-1268     1        3        2      -1.0   \n",
      "2048          Kennesaw     GA       30144     1        4        1      -1.0   \n",
      "2049  Milligan College     TN       37682     1        4        2      48.0   \n",
      "2050         Las Vegas     NV  89144-6595     0        0        3      -1.0   \n",
      "2051              Troy     MI  48084-5286     0        0        3      -1.0   \n",
      "2052   North Brunswick     NJ  08902-3492     0        0        3      -1.0   \n",
      "2053       Los Angeles     CA  90017-2019     0        0        3      -1.0   \n",
      "2054           Memphis     TN       38163     0        4        1      -1.0   \n",
      "2055      Sierra Vista     AZ       85635     0        4        1      -1.0   \n",
      "2056         Las Vegas     NV  89102-4512     0        0        3      -1.0   \n",
      "2057            Bangor     ME  04401-2929     1        4        2      -1.0   \n",
      "2058          Kirkland     WA       98033     1        4        2      27.0   \n",
      "\n",
      "         ...       PCIP48  PCIP49  PCIP50  PCIP51  PCIP52  PCIP54  \\\n",
      "0        ...          0.0     0.0  0.0258  0.0000  0.1479  0.0000   \n",
      "1        ...          0.0     0.0  0.0376  0.2231  0.1837  0.0188   \n",
      "2        ...          0.0     0.0  0.0000  0.0000  0.3962  0.0000   \n",
      "3        ...          0.0     0.0  0.0288  0.1892  0.2072  0.0117   \n",
      "4        ...          0.0     0.0  0.0473  0.0926  0.0983  0.0113   \n",
      "5        ...          0.0     0.0  0.0295  0.1065  0.2886  0.0155   \n",
      "6        ...          0.0     0.0  0.0263  0.0100  0.4205  0.0075   \n",
      "7        ...          0.0     0.0  0.0286  0.2555  0.2471  0.0134   \n",
      "8        ...          0.0     0.0  0.0367  0.0575  0.1989  0.0122   \n",
      "9        ...          0.0     0.0  0.0991  0.0000  0.2207  0.0450   \n",
      "10       ...          0.0     0.0  0.0000  0.6881  0.0826  0.0000   \n",
      "11       ...          0.0     0.0  0.0225  0.0412  0.5768  0.0037   \n",
      "12       ...          0.0     0.0  0.0303  0.0216  0.4848  0.0216   \n",
      "13       ...          0.0     0.0  0.0000  0.0000  0.0000  0.0000   \n",
      "14       ...          0.0     0.0  0.0444  0.2877  0.1295  0.0203   \n",
      "15       ...          0.0     0.0  0.1077  0.2462  0.0615  0.0462   \n",
      "16       ...          0.0     0.0  0.0000  0.2000  0.2286  0.0245   \n",
      "17       ...          0.0     0.0  0.0364  0.0000  0.2545  0.0364   \n",
      "18       ...          0.0     0.0  0.0394  0.2485  0.1636  0.0030   \n",
      "19       ...          0.0     0.0  0.1400  0.0933  0.1300  0.0500   \n",
      "20       ...          0.0     0.0  0.0594  0.1510  0.2313  0.0208   \n",
      "21       ...          0.0     0.0  0.0381  0.1613  0.1584  0.0147   \n",
      "22       ...          0.0     0.0  0.0530  0.3114  0.1305  0.0220   \n",
      "23       ...          0.0     0.0  0.0000  0.0000  0.3478  0.0000   \n",
      "24       ...          0.0     0.0  0.0286  0.3276  0.1199  0.0130   \n",
      "25       ...          0.0     0.0  0.0538  0.0583  0.2422  0.0404   \n",
      "26       ...          0.0     0.0  0.0246  0.0000  0.1967  0.0820   \n",
      "27       ...          0.0     0.0  0.0556  0.0000  0.3778  0.0111   \n",
      "28       ...          0.0     0.0  0.0144  0.0760  0.1632  0.0195   \n",
      "29       ...          0.0     0.0  0.0000  0.0463  0.1829  0.0162   \n",
      "...      ...          ...     ...     ...     ...     ...     ...   \n",
      "2029     ...          0.0     0.0  0.0000  0.1796  0.5878  0.0000   \n",
      "2030     ...          0.0     0.0  0.0000  0.2241  0.4448  0.0000   \n",
      "2031     ...          0.0     0.0  0.0000  0.1784  0.5062  0.0000   \n",
      "2032     ...          0.0     0.0  0.0000  0.0317  0.4774  0.0000   \n",
      "2033     ...          0.0     0.0  0.0000  0.0000  0.9944  0.0000   \n",
      "2034     ...          0.0     0.0  0.0000  0.1769  0.4762  0.0000   \n",
      "2035     ...          0.0     0.0  0.0000  0.2639  0.4643  0.0000   \n",
      "2036     ...          0.0     0.0  0.0000  0.0983  0.6919  0.0000   \n",
      "2037     ...          0.0     0.0  0.0000  0.0873  0.5278  0.0000   \n",
      "2038     ...          0.0     0.0  0.0000  0.1597  0.4370  0.0000   \n",
      "2039     ...          0.0     0.0  0.0000  0.0000  0.0000  0.0000   \n",
      "2040     ...          0.0     0.0  0.0000  0.0000  0.0000  0.0000   \n",
      "2041     ...          0.0     0.0  0.0000  0.0000  0.6000  0.0000   \n",
      "2042     ...          0.0     0.0  0.0000  0.0000  0.0000  0.0000   \n",
      "2043     ...          0.0     0.0  0.0000  0.0000  0.0000  0.0000   \n",
      "2044     ...          0.0     0.0  0.0000  0.0000  0.0000  0.0000   \n",
      "2045     ...          0.0     0.0  0.0000  0.0000  0.0000  0.0000   \n",
      "2046     ...          0.0     0.0  0.0000  0.0000  0.0000  0.0000   \n",
      "2047     ...          0.0     0.0  1.0000  0.0000  0.0000  0.0000   \n",
      "2048     ...          0.0     0.0  0.0275  0.0475  0.2154  0.0122   \n",
      "2049     ...          0.0     0.0  0.0240  0.2120  0.2160  0.0160   \n",
      "2050     ...          0.0     0.0  0.0000  0.0000  0.0000  0.0000   \n",
      "2051     ...          0.0     0.0  0.0000  0.0000  0.0000  0.0000   \n",
      "2052     ...          0.0     0.0  0.0000  0.0000  0.0000  0.0000   \n",
      "2053     ...          0.0     0.0  0.0000  0.0000  0.0000  0.0000   \n",
      "2054     ...          0.0     0.0  0.0000  1.0000  0.0000  0.0000   \n",
      "2055     ...          0.0     0.0  0.0000  0.0000  0.1259  0.0350   \n",
      "2056     ...          0.0     0.0  0.0000  0.0000  0.0000  0.0000   \n",
      "2057     ...          0.0     0.0  0.0054  0.1882  0.3082  0.0000   \n",
      "2058     ...          0.0     0.0  0.0000  0.0000  0.2059  0.0000   \n",
      "\n",
      "      SPRING_TAVG  SUMMER_TAVG  FALL_TAVG  WINTER_TAVG  \n",
      "0       62.948000    77.484000  62.246000    44.048000  \n",
      "1       65.612000    78.932000  65.135000    47.696000  \n",
      "2       69.236000    81.914000  68.213000    52.499000  \n",
      "3       62.948000    77.484000  62.246000    44.048000  \n",
      "4       69.236000    81.914000  68.213000    52.499000  \n",
      "5       65.725455    79.608500  65.889500    48.464000  \n",
      "6       64.358000    80.666000  65.264000    46.016000  \n",
      "7       69.236000    81.914000  68.213000    52.499000  \n",
      "8       64.430000    78.014000  64.496000    48.530000  \n",
      "9       65.612000    78.932000  65.135000    47.696000  \n",
      "10      70.142000    81.716000  68.348000    54.038000  \n",
      "11      68.330000    81.980000  68.078000    50.960000  \n",
      "12      69.236000    81.914000  68.213000    52.499000  \n",
      "13      66.337048    77.348000  62.540000    43.682000  \n",
      "14      64.286000    78.368000  64.058000    47.528000  \n",
      "15      66.337048    79.720583  66.134809    49.416355  \n",
      "16      63.914000    79.610000  65.000000    47.360000  \n",
      "17      65.612000    78.932000  65.135000    47.696000  \n",
      "18      69.609714    81.353000  70.481000    56.228000  \n",
      "19      65.945000    79.523000  65.378000    48.287000  \n",
      "20      66.337048    77.348000  62.540000    43.682000  \n",
      "21      62.948000    77.484000  62.246000    44.048000  \n",
      "22      65.612000    78.932000  65.135000    47.696000  \n",
      "23      65.486000    78.644000  65.324000    49.358000  \n",
      "24      69.609714    81.353000  70.481000    56.228000  \n",
      "25      68.888000    80.840000  70.016000    54.890000  \n",
      "26      66.851000    80.510000  66.944000    49.277000  \n",
      "27      63.815000    77.963000  63.317000    46.874000  \n",
      "28      66.337048    79.720583  66.134809    49.416355  \n",
      "29      66.337048    79.720583  66.134809    49.416355  \n",
      "...           ...          ...        ...          ...  \n",
      "2029    69.588000    81.294000  70.506000    55.610857  \n",
      "2030    46.187273    68.847500  52.004000    24.567500  \n",
      "2031    59.010000    78.032750  60.178000    33.786000  \n",
      "2032    53.762679    77.345294  62.946622    43.061292  \n",
      "2033    60.537949    76.475445  61.794486    42.211113  \n",
      "2034    62.216000    79.936000  63.168000    39.764000  \n",
      "2035    61.413125    76.727600  62.037200    41.162000  \n",
      "2036    71.549000    83.691500  73.142000    53.776727  \n",
      "2037    59.714000    77.636000  61.238000    41.120000  \n",
      "2038    55.022000    77.210000  62.114000    37.286000  \n",
      "2039    47.265054    69.816644  55.604468    28.941013  \n",
      "2040    73.813427    82.868344  76.222435    65.196282  \n",
      "2041    60.592034    72.230964  67.959617    55.918189  \n",
      "2042    47.265054    69.816644  55.604468    28.941013  \n",
      "2043    47.265054    69.816644  55.604468    28.941013  \n",
      "2044    47.265054    69.816644  55.604468    28.941013  \n",
      "2045    47.265054    69.816644  55.604468    28.941013  \n",
      "2046    46.757600    70.412000  49.835600    16.400000  \n",
      "2047    58.346000    64.124000  61.349000    54.020000  \n",
      "2048    64.793658    78.651474  64.661252    48.048870  \n",
      "2049    54.926000    69.863000  55.673000    37.763000  \n",
      "2050    53.762679    77.345294  62.946622    43.061292  \n",
      "2051    46.187273    68.847500  52.004000    24.567500  \n",
      "2052    51.764000    73.112000  58.034000    33.326000  \n",
      "2053    59.747220    72.677366  71.760286    57.624350  \n",
      "2054    64.062000    79.818000  64.072000    42.110000  \n",
      "2055    63.158000    77.600000  67.028000    48.248000  \n",
      "2056    57.421143    82.539636  66.942500    47.068812  \n",
      "2057    41.378000    66.194000  52.358000    21.026000  \n",
      "2058    41.427500    59.180000  54.669091    36.142182  \n",
      "\n",
      "[2059 rows x 140 columns]\n"
     ]
    }
   ],
   "source": [
    "from pprint import pprint\n",
    "import json\n",
    "import numpy as np\n",
    "\n",
    "def get_temperatures():\n",
    "    d=json.load(open('temperatures.json'))\n",
    "    temps=[]\n",
    "    df=pd.read_csv('cleaned_data.csv', low_memory=False)\n",
    "    zips=df['ZIP'].tolist()\n",
    "    zips=[zips[i].split(\"-\")[0] for i in range(len(zips))]\n",
    "    for i in range(len(zips)):\n",
    "        temps.append(d[zips[i]])\n",
    "    cols=np.asarray(temps,dtype=float)\n",
    "    df['SPRING_TAVG'], df['SUMMER_TAVG'], df['FALL_TAVG'], df['WINTER_TAVG'] = cols[:,0], cols[:,1], cols[:,2], cols[:,3]\n",
    "    df.to_csv(\"cleaned_data.csv\", encoding='utf-8', index=False)"
   ]
  }
 ],
 "metadata": {
  "kernelspec": {
   "display_name": "Python 3",
   "language": "python",
   "name": "python3"
  },
  "language_info": {
   "codemirror_mode": {
    "name": "ipython",
    "version": 3
   },
   "file_extension": ".py",
   "mimetype": "text/x-python",
   "name": "python",
   "nbconvert_exporter": "python",
   "pygments_lexer": "ipython3",
   "version": "3.6.3"
  }
 },
 "nbformat": 4,
 "nbformat_minor": 2
}
